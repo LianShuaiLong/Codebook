{
 "cells": [
  {
   "cell_type": "code",
   "execution_count": 1,
   "id": "1927070b",
   "metadata": {},
   "outputs": [],
   "source": [
    "import tensorflow.compat.v1 as tf"
   ]
  },
  {
   "cell_type": "code",
   "execution_count": 8,
   "id": "f8755d4f",
   "metadata": {},
   "outputs": [],
   "source": [
    "xulie = '2624589463;76523725;287554729;276107047;4203937162;4078814928;1805417079;313935447;1171899098;2047572414'\n",
    "tmp = tf.strings.split([xulie],';')\n",
    "tmpValues = tf.string_to_number(tmp.values,out_type=tf.int64)\n",
    "v_new = tf.SparseTensor(tmp.indices, tmpValues, tmp.dense_shape)"
   ]
  },
  {
   "cell_type": "code",
   "execution_count": 10,
   "id": "b4aaf3e1",
   "metadata": {},
   "outputs": [
    {
     "data": {
      "text/plain": [
       "SparseTensorValue(indices=array([[0, 0],\n",
       "       [0, 1],\n",
       "       [0, 2],\n",
       "       [0, 3],\n",
       "       [0, 4],\n",
       "       [0, 5],\n",
       "       [0, 6],\n",
       "       [0, 7],\n",
       "       [0, 8],\n",
       "       [0, 9]], dtype=int64), values=array([2624589463,   76523725,  287554729,  276107047, 4203937162,\n",
       "       4078814928, 1805417079,  313935447, 1171899098, 2047572414],\n",
       "      dtype=int64), dense_shape=array([ 1, 10], dtype=int64))"
      ]
     },
     "execution_count": 10,
     "metadata": {},
     "output_type": "execute_result"
    }
   ],
   "source": [
    "sess=tf.Session()\n",
    "sess.run(v_new)\n",
    "#indices:非零元素的位置 values:非零元素的值 dense_shape：sparse_tensor的形状"
   ]
  },
  {
   "cell_type": "code",
   "execution_count": 16,
   "id": "11bd1994",
   "metadata": {},
   "outputs": [
    {
     "name": "stdout",
     "output_type": "stream",
     "text": [
      "[[2. 5. 1. 2.]]\n"
     ]
    }
   ],
   "source": [
    "sess = tf.Session()\n",
    "tf.compat.v1.disable_eager_execution()\n",
    "features = {\n",
    "    'xulie': [[2624589463,76523725,287554729,276107047,4203937162,4078814928,1805417079,313935447,1171899098,2047572414]]#[[]]multi-hot\n",
    "    #'xulie': [2624589463,76523725,287554729,276107047,4203937162,4078814928,1805417079,313935447,1171899098,2047572414]#[] one-hot\n",
    "}\n",
    "department = tf.feature_column.categorical_column_with_hash_bucket('xulie', 4, dtype=tf.int64)\n",
    "department = tf.feature_column.indicator_column(department)\n",
    "#组合特征列\n",
    "columns = [\n",
    "    department\n",
    "]\n",
    "inputs = tf.feature_column.input_layer(features, columns)\n",
    "\n",
    "#初始化并运行\n",
    "init = tf.global_variables_initializer()\n",
    "sess.run(tf.tables_initializer())\n",
    "sess.run(init)\n",
    "\n",
    "v=sess.run(inputs)\n",
    "print(v)"
   ]
  },
  {
   "cell_type": "code",
   "execution_count": null,
   "id": "b0376da4",
   "metadata": {},
   "outputs": [],
   "source": []
  }
 ],
 "metadata": {
  "kernelspec": {
   "display_name": "Python 3",
   "language": "python",
   "name": "python3"
  },
  "language_info": {
   "codemirror_mode": {
    "name": "ipython",
    "version": 3
   },
   "file_extension": ".py",
   "mimetype": "text/x-python",
   "name": "python",
   "nbconvert_exporter": "python",
   "pygments_lexer": "ipython3",
   "version": "3.8.10"
  }
 },
 "nbformat": 4,
 "nbformat_minor": 5
}
