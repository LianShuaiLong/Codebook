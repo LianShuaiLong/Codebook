{
 "cells": [
  {
   "cell_type": "code",
   "execution_count": 3,
   "id": "c9671ce2",
   "metadata": {},
   "outputs": [
    {
     "data": {
      "text/plain": [
       "<tf.Tensor: shape=(3, 2), dtype=int32, numpy=\n",
       "array([[ 4, 10],\n",
       "       [10, 24],\n",
       "       [16, 38]])>"
      ]
     },
     "execution_count": 3,
     "metadata": {},
     "output_type": "execute_result"
    }
   ],
   "source": [
    "import tensorflow.compat.v1 as tf\n",
    "a = tf.constant([[1,2],[3,4],[5,6]])\n",
    "b = tf.constant([[2,4],[1,3]])\n",
    "c = tf.matmul(a,b)\n",
    "c"
   ]
  },
  {
   "cell_type": "code",
   "execution_count": 4,
   "id": "00538db0",
   "metadata": {},
   "outputs": [
    {
     "data": {
      "text/plain": [
       "<tf.Tensor: shape=(3, 2), dtype=int32, numpy=\n",
       "array([[1, 2],\n",
       "       [3, 4],\n",
       "       [5, 6]])>"
      ]
     },
     "execution_count": 4,
     "metadata": {},
     "output_type": "execute_result"
    }
   ],
   "source": [
    "a"
   ]
  },
  {
   "cell_type": "code",
   "execution_count": 5,
   "id": "cc3163e1",
   "metadata": {},
   "outputs": [
    {
     "data": {
      "text/plain": [
       "<tf.Tensor: shape=(2, 2), dtype=int32, numpy=\n",
       "array([[2, 4],\n",
       "       [1, 3]])>"
      ]
     },
     "execution_count": 5,
     "metadata": {},
     "output_type": "execute_result"
    }
   ],
   "source": [
    "b"
   ]
  },
  {
   "cell_type": "code",
   "execution_count": 6,
   "id": "0c3b3f04",
   "metadata": {},
   "outputs": [
    {
     "data": {
      "text/plain": [
       "<tf.Tensor: shape=(3, 3), dtype=int32, numpy=\n",
       "array([[ 116,  280,  444],\n",
       "       [ 280,  676, 1072],\n",
       "       [ 444, 1072, 1700]])>"
      ]
     },
     "execution_count": 6,
     "metadata": {},
     "output_type": "execute_result"
    }
   ],
   "source": [
    "d = tf.matmul(c,tf.transpose(c))\n",
    "d"
   ]
  },
  {
   "cell_type": "code",
   "execution_count": 7,
   "id": "721085e9",
   "metadata": {},
   "outputs": [
    {
     "data": {
      "text/plain": [
       "<tf.Tensor: shape=(3, 3), dtype=int32, numpy=\n",
       "array([[ 116,  280,  444],\n",
       "       [ 280,  676, 1072],\n",
       "       [ 444, 1072, 1700]])>"
      ]
     },
     "execution_count": 7,
     "metadata": {},
     "output_type": "execute_result"
    }
   ],
   "source": [
    "e = tf.einsum('ij,kj->ik',c,c)\n",
    "e"
   ]
  },
  {
   "cell_type": "code",
   "execution_count": 8,
   "id": "68fe71b4",
   "metadata": {},
   "outputs": [
    {
     "data": {
      "text/plain": [
       "<tf.Tensor: shape=(2, 2), dtype=int32, numpy=\n",
       "array([[14, 20],\n",
       "       [20, 29]])>"
      ]
     },
     "execution_count": 8,
     "metadata": {},
     "output_type": "execute_result"
    }
   ],
   "source": [
    "#https://blog.csdn.net/u013841196/article/details/81140835\n",
    "t1 = tf.constant([[1,2,3],[2,3,4]])\n",
    "#t2 = tf.matmul(t1,tf.transpose(t1))\n",
    "t2 = tf.matmul(t1,t1,transpose_b=True)\n",
    "t3 = tf.einsum('ij,kj->ik',t1,t1)\n",
    "t2"
   ]
  },
  {
   "cell_type": "code",
   "execution_count": 9,
   "id": "5229ad2c",
   "metadata": {},
   "outputs": [
    {
     "data": {
      "text/plain": [
       "<tf.Tensor: shape=(2, 2), dtype=int32, numpy=\n",
       "array([[14, 20],\n",
       "       [20, 29]])>"
      ]
     },
     "execution_count": 9,
     "metadata": {},
     "output_type": "execute_result"
    }
   ],
   "source": [
    "t3"
   ]
  },
  {
   "cell_type": "code",
   "execution_count": 25,
   "id": "a4cdafb7",
   "metadata": {},
   "outputs": [
    {
     "data": {
      "text/plain": [
       "<tf.Tensor: shape=(3, 2, 2), dtype=int32, numpy=\n",
       "array([[[14, 20],\n",
       "        [20, 29]],\n",
       "\n",
       "       [[14, 20],\n",
       "        [20, 29]],\n",
       "\n",
       "       [[14, 20],\n",
       "        [20, 29]]])>"
      ]
     },
     "execution_count": 25,
     "metadata": {},
     "output_type": "execute_result"
    }
   ],
   "source": [
    "#https://blog.csdn.net/DBC_121/article/details/109566151\n",
    "# 在输入数组中重复的字母意味着值沿这些轴相乘\n",
    "# 输出中省略的字母意味着沿该轴的值将相加\n",
    "# 我们可以按照我们喜欢的任何顺序返回未没进行累加的轴\n",
    "# 当处理大量维度时，别忘了einsum允许使用省略号语法’…’。\n",
    "# 这提供了一种变量的方式标记我们不大感兴趣的轴，例如np.einsum(‘…ij,ji->…’, a, b)，\n",
    "# 仅将a的最后两个轴与2维数组b相乘\n",
    "m = tf.constant([[[1,2,3],[2,3,4]],[[1,2,3],[2,3,4]],[[1,2,3],[2,3,4]]])\n",
    "m1 = tf.matmul(m,m,transpose_b=True)\n",
    "m2 = tf.einsum('...bc,...fc->...bf',m,m)\n",
    "m1"
   ]
  },
  {
   "cell_type": "code",
   "execution_count": 26,
   "id": "6989134a",
   "metadata": {},
   "outputs": [
    {
     "data": {
      "text/plain": [
       "<tf.Tensor: shape=(3, 2, 2), dtype=int32, numpy=\n",
       "array([[[14, 20],\n",
       "        [20, 29]],\n",
       "\n",
       "       [[14, 20],\n",
       "        [20, 29]],\n",
       "\n",
       "       [[14, 20],\n",
       "        [20, 29]]])>"
      ]
     },
     "execution_count": 26,
     "metadata": {},
     "output_type": "execute_result"
    }
   ],
   "source": [
    "m2"
   ]
  },
  {
   "cell_type": "code",
   "execution_count": 29,
   "id": "a78e3a22",
   "metadata": {},
   "outputs": [
    {
     "data": {
      "text/plain": [
       "<tf.Tensor: shape=(2, 2, 1), dtype=int32, numpy=\n",
       "array([[[14],\n",
       "        [20]],\n",
       "\n",
       "       [[20],\n",
       "        [29]]])>"
      ]
     },
     "execution_count": 29,
     "metadata": {},
     "output_type": "execute_result"
    }
   ],
   "source": [
    "p1 = tf.constant([[[1,2,3],[2,3,4]],[[1,2,3],[2,3,4]]])\n",
    "p2 = tf.constant([[[1,2,3]],[[2,3,4]]])\n",
    "p = tf.einsum('...bc,...fc->...bf',p1,p2)\n",
    "p"
   ]
  },
  {
   "cell_type": "code",
   "execution_count": 35,
   "id": "4dda474b",
   "metadata": {},
   "outputs": [
    {
     "data": {
      "text/plain": [
       "<tf.Tensor: shape=(2, 2), dtype=int32, numpy=\n",
       "array([[ 6, 18],\n",
       "       [12,  9]])>"
      ]
     },
     "execution_count": 35,
     "metadata": {},
     "output_type": "execute_result"
    }
   ],
   "source": [
    "p1 = tf.constant([[[1,2,3],[2,3,4]],[[1,2,3],[2,3,4]]])\n",
    "p2 = tf.constant([[[1],[2]],[[2],[1]]])\n",
    "p = tf.einsum('...c,...d->...',p1,p2)\n",
    "p"
   ]
  }
 ],
 "metadata": {
  "kernelspec": {
   "display_name": "Python 3",
   "language": "python",
   "name": "python3"
  },
  "language_info": {
   "codemirror_mode": {
    "name": "ipython",
    "version": 3
   },
   "file_extension": ".py",
   "mimetype": "text/x-python",
   "name": "python",
   "nbconvert_exporter": "python",
   "pygments_lexer": "ipython3",
   "version": "3.8.10"
  }
 },
 "nbformat": 4,
 "nbformat_minor": 5
}
